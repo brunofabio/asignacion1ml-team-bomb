{
 "cells": [
  {
   "cell_type": "markdown",
   "metadata": {},
   "source": [
    "# Asignación 1\n",
    "\n",
    "Todos los asignaciones serán presentadas utilizando los cuadernos de [Jupyter Notebook](http://jupyter.org/), además de respectivas pruebas como ejemplo, así como el uso de mediciones de velocidad de ejecución utilizando  el comando `timeit` y algunos gráficos si fuese necesario.\n",
    "\n",
    "Las referencias a los ejercicios son :\n",
    "\n",
    "* David Barber, [Bayesian Reasoning and Machine Learning](http://web4.cs.ucl.ac.uk/staff/D.Barber/pmwiki/pmwiki.php?n=Brml.Online),  Cambridge University Press, 2017.\n",
    "\n",
    "* Pattern Recognition and Machine Learning de Chris Bishop 2006.\n",
    "\n",
    "* Machine Learning Refined, Watt, Borhani, Katsaggelos 2016."
   ]
  },
  {
   "cell_type": "markdown",
   "metadata": {
    "collapsed": true
   },
   "source": [
    "## Lista de ejercicios"
   ]
  },
  {
   "cell_type": "markdown",
   "metadata": {},
   "source": [
    "1 . Imaginemos  que tenemos dos posibilidades: podemos escanear y enviar por correo electrónico una imagen, o podemos usar un lector óptico de caracteres (OCR) y enviar el archivo de texto. Discute las ventaja y las desventajas de los dos enfoques de manera comparativa. ¿Cuándo uno sería preferible al otro?."
   ]
  },
  {
   "cell_type": "code",
   "execution_count": null,
   "metadata": {
    "collapsed": true
   },
   "outputs": [],
   "source": [
    "'''\n",
    "OCR es una herramienta muy útil, pero como toda tecnología tiene sus limitaciones.\n",
    "\n",
    "Cuando se trata de enviar imagen (IMG) o texto escaneado con OCR (OCRtext), la ventaja de uno respecto \n",
    "a otro dependerá mucho del uso que se de al contenido.\n",
    "\n",
    "1. Si la imagen contiene mucho texto y el receptor requiere hacer búsquedas, lo más veloz y eficiente\n",
    "será enviar OCRtext.\n",
    "\n",
    "2. Si se requiere agregar información adicional y/o editar la información que contenga la imagen, lo más\n",
    "conveniente será enviar OCRtext\n",
    "\n",
    "3. Si el contenido del texto está hecho a mano, lo más conveniente será enviar IMG, puesto que ocr no \n",
    "tiene buen rendimiento con manuscritos.\n",
    "\n",
    "4. Si es algún tipo de documento que necesita hacer, o si accidentalmente se borró el archivo digital,\n",
    "escaneando el original con OCR se ahorra esfuerzo y tiempo.\n",
    "\n",
    "5. Si la tipografía es variada, es decir si existen más de un idioma (inglés y japones x ejmplo), \n",
    "la tipografía sería un problema para este caso conviene IMG.\n",
    "\n",
    "6. Si el texto contenido en la imagen es muy varicolor, para usar OCR se tiene que llevar a escala de grises,\n",
    "y si en escala de grises no se distingue el texto como debería sería mejor IMG.\n",
    "\n",
    "7. Si la imágen no tiene buena calidad, o si el texto es muy pequeño. Entonces conviene enviar la IMG.\n",
    "\n",
    "8. Si en la imágen hay un gráfico de mucho importancia además del texto, conviene enviar IMG.\n",
    "\n",
    "Como es de notar existen varios casos hipotéticos, el uso o no de OCR depende mucho del uso que se dé.\n",
    "''' "
   ]
  },
  {
   "cell_type": "markdown",
   "metadata": {},
   "source": [
    "2 .Digamos que estamos construyendo un OCR y para cada carácter, almacenamos el mapa de bits de ese carácter como una plantilla que coincida con el carácter de lectura píxel a píxel. Explica cuándo fallaría un sistema de este tipo. ¿Por qué se siguen utilizando los lectores de códigos de barras?"
   ]
  },
  {
   "cell_type": "code",
   "execution_count": 2,
   "metadata": {
    "collapsed": true
   },
   "outputs": [],
   "source": [
    "''' \n",
    "1. EL error se genera cuando se haga reconocimiento de escritura sea a mano, pues hay muchos tipos de escritura,\n",
    "cada persona escribe de forma, tamaño y estilo diferente.\n",
    "2. El error también se genera cuando no se usan letras contenidas en el alfabeto propuesto, o una mezcla de ambos.\n",
    "Es decir si el texto contiene idiomas con otros alfabetos o simbolos ajenos al alfabeto.\n",
    "\n",
    "Codigo de barras se siguen utilizando por que mantienen un estandar, es el mismo para diferentes culturas.\n",
    "Además de ello son más baratos y fáciles de usar y lo más importante es que eliminan la posibilidad de error humano\n",
    "haciéndolo más ágil.\n",
    "'''\n"
   ]
  },
  {
   "cell_type": "markdown",
   "metadata": {},
   "source": [
    "3 . Supongamos que se nos da la tarea de construir un sistema para distinguir correo basura. ¿Qué hay en un correo basura que nos permite saber que es basura? ¿Cómo puede la computadora detectar la basura mediante un análisis sintáctico? ¿Qué nos gustaría que hiciera la computadora si detecta un correo electrónico no deseado: eliminarlo automáticamente, moverlo a un archivo diferente o simplemente resaltarlo en la pantalla?"
   ]
  },
  {
   "cell_type": "code",
   "execution_count": 3,
   "metadata": {
    "collapsed": true
   },
   "outputs": [],
   "source": [
    "'''\n",
    "Existen muchos factores que juegan un papel importante al momento de identificar si un correo es basura o no, \n",
    "como pueden ser ciertas palabras, caracteres, direcciones IP, el remitente que envío el correo, etc.\n",
    "\n",
    "Disponiendo de una base de datos un filtro computacional podrá actuar para clasificar un correo como spam o no.\n",
    "Cuando se recibe un nuevo correo, el análisis consiste en descomponer el texto en palabras y se seleccionan \n",
    "las más relevantes, las cuales el filtro procesará calculando la probabilidad de que el correo que hemos recibido\n",
    "sea spam o no.Si la probabilidad supera un umbral establecido se considerará spam. \n",
    "\n",
    "Lo ideal al momento de detectar un correo basura, sería aprovechar este resultado de alguna manera, por ello no sería\n",
    "conveniente eliminarlo, aunque sea la primera idea que cualquier persona desearía considerar, ya que se estaría \n",
    "descartando ciertos patrones encontrados al momento de analizar el correo y los cuales lo clasifican como un spam.\n",
    "Por lo tanto la decisión correcta sería clasificarlo como correo basura y el sistema aprenda de esta manera analizando \n",
    "el correo nuevamente como buscar la cantidad de veces que aparece una palabra en dicho correo y que sirva como un patrón\n",
    "para una futura toma de decisiones.\n",
    "\n",
    "'''"
   ]
  },
  {
   "cell_type": "markdown",
   "metadata": {},
   "source": [
    "4 .Digamos que se nos da la tarea de construir un taxi automatizado. Define las restricciones. ¿Cuáles son las entradas? ¿Cuál es la salida? ¿Cómo podemos comunicarnos con el pasajero? ¿Necesitamos comunicarnos con los otros taxis automatizados, es decir, necesitamos un \"lenguaje\"?"
   ]
  },
  {
   "cell_type": "code",
   "execution_count": 4,
   "metadata": {
    "collapsed": true
   },
   "outputs": [],
   "source": [
    "# Tu respuesta"
   ]
  },
  {
   "cell_type": "markdown",
   "metadata": {},
   "source": [
    "5 .En el análisis de la cesta  de la compra, queremos encontrar la dependencia entre dos elementos X e Y. Dada una base de datos de transacciones de clientes, ¿cómo podemos encontrar estas dependencias? ¿Cómo generalizaríamos esto a más de dos ítems?"
   ]
  },
  {
   "cell_type": "code",
   "execution_count": 5,
   "metadata": {
    "collapsed": true
   },
   "outputs": [],
   "source": [
    "# Tu respuesta"
   ]
  },
  {
   "cell_type": "markdown",
   "metadata": {},
   "source": [
    "6 .En un periódico , encuentra cinco ejemplos de noticias para cada categoría de política, deportes y artes. Revisa estos informes y encuentra las palabras que se usan frecuentemente para cada categoría, lo que te puede ayudarle a discriminar entre diferentes categorías.\n",
    "\n",
    "Por ejemplo, es probable que un reportaje sobre política incluya palabras como *gobierno*, *recesión*, *congreso*, etc., mientras que un reportaje sobre las artes puede incluir *álbum*, *lienzo* o *teatro* . También hay palabras como *meta* que son ambiguas."
   ]
  },
  {
   "cell_type": "code",
   "execution_count": 6,
   "metadata": {
    "collapsed": true
   },
   "outputs": [],
   "source": [
    "# Tu respuesta"
   ]
  },
  {
   "cell_type": "markdown",
   "metadata": {},
   "source": [
    "7 . Sea  una imagen de rostro es una imagen 100 x 100, o un vector de 10.000 dimensiones. Si cambiamos la imagen de un píxel a la derecha, este será un vector muy diferente en el espacio de 10.000 dimensiones. ¿Cómo podemos construir reconocedores faciales que manejen a tales distorsiones?"
   ]
  },
  {
   "cell_type": "code",
   "execution_count": 7,
   "metadata": {
    "collapsed": true
   },
   "outputs": [],
   "source": [
    "# Tu respuesta"
   ]
  },
  {
   "cell_type": "markdown",
   "metadata": {},
   "source": [
    "8 . Tomemos, por ejemplo, la palabra \"máquina\". Escríbela diez veces. También pide a un amigo de tu equipo que escriba la palabra  diez veces. Analizando estas veinte imágenes, trata de encontrar características, tipos de trazos, curvaturas, bucles, cómo hacer los puntos y así sucesivamente, que discriminan su escritura a mano de la de su amigo."
   ]
  },
  {
   "cell_type": "code",
   "execution_count": 8,
   "metadata": {
    "collapsed": true
   },
   "outputs": [],
   "source": [
    "# Tu respuesta"
   ]
  },
  {
   "cell_type": "markdown",
   "metadata": {},
   "source": [
    "9 .Al estimar el precio de un automóvil usado, tiene más sentido estimar el porcentaje de depreciación sobre el precio original que estimar el precio absoluto. ¿Por qué?"
   ]
  },
  {
   "cell_type": "code",
   "execution_count": 9,
   "metadata": {
    "collapsed": true
   },
   "outputs": [],
   "source": [
    "# Tu respuesta"
   ]
  },
  {
   "cell_type": "markdown",
   "metadata": {},
   "source": [
    "10 .Los investigadores de ML a menudo prueban sus algoritmos usando dominios públicos de referencia. Un gran repositorio de tales dominios se puede encontrar en la siguiente dirección: [www.ics.uci.edu/~mlearn/MLRepository.html](www.ics.uci.edu/~mlearn/MLRepository.html). Echa un vistazo a estos datos y ver cómo difieren en el número de atributos, tipos de atributos, tamaños y así sucesivamente."
   ]
  },
  {
   "cell_type": "markdown",
   "metadata": {},
   "source": [
    "11 .Escribe un programa  que usará la fórmula de Bayes para calcular las probabilidades de clase en un dominio donde todos los atributos son discretos."
   ]
  },
  {
   "cell_type": "markdown",
   "metadata": {},
   "source": [
    "12 .¿Cómo calcularías las probabilidades de las clases de salida en un dominio donde algunos atributos son booleanos, otros discretos y otros continuos? Discute las posibilidades de combinar diferentes enfoques. Para el caso de atributos continuos, escribe un programa  que acepte los ejemplos de entrenamiento en la forma de una tabla por ejemplo.\n",
    "\n",
    "Aplica este programa a unos pocos dominios de referencia del repositorio UCI (escoja de aquellos donde todos los atributos son continuos) y observe que el programa tiene éxito en algunos dominios mejor que en otros."
   ]
  },
  {
   "cell_type": "code",
   "execution_count": 19,
   "metadata": {
    "collapsed": false,
    "scrolled": true
   },
   "outputs": [
    {
     "name": "stdout",
     "output_type": "stream",
     "text": [
      "probabilidad de clases[2 4]: [ 0.65522175  0.34477825]\n",
      "[[array([1, 2, 3, 4, 5, 6, 7, 8, 9, 10], dtype=object)\n",
      "  array([145,  50, 108,  80, 130,  34,  23,  46,  14,  69])]\n",
      " [array([1, 2, 3, 4, 5, 6, 7, 8, 9, 10], dtype=object)\n",
      "  array([384,  45,  52,  40,  30,  27,  19,  29,   6,  67])]\n",
      " [array([1, 2, 3, 4, 5, 6, 7, 8, 9, 10], dtype=object)\n",
      "  array([353,  59,  56,  44,  34,  30,  30,  28,   7,  58])]\n",
      " [array([1, 2, 3, 4, 5, 6, 7, 8, 9, 10], dtype=object)\n",
      "  array([407,  58,  58,  33,  23,  22,  13,  25,   5,  55])]\n",
      " [array([1, 2, 3, 4, 5, 6, 7, 8, 9, 10], dtype=object)\n",
      "  array([ 47, 386,  72,  48,  39,  41,  12,  21,   2,  31])]\n",
      " [ array(['1', '10', '2', '3', '4', '5', '6', '7', '8', '9', '?'], dtype=object)\n",
      "  array([402, 132,  30,  28,  19,  30,   4,   8,  21,   9,  16])]\n",
      " [array([1, 2, 3, 4, 5, 6, 7, 8, 9, 10], dtype=object)\n",
      "  array([152, 166, 165,  40,  34,  10,  73,  28,  11,  20])]\n",
      " [array([1, 2, 3, 4, 5, 6, 7, 8, 9, 10], dtype=object)\n",
      "  array([443,  36,  44,  18,  19,  22,  16,  24,  16,  61])]\n",
      " [array([1, 2, 3, 4, 5, 6, 7, 8, 10], dtype=object)\n",
      "  array([579,  35,  33,  12,   6,   3,   9,   8,  14])]\n",
      " [array([2, 4], dtype=object) array([458, 241])]]\n"
     ]
    }
   ],
   "source": [
    "# Tu codigo\n",
    "import numpy as np\n",
    "import pandas as pd\n",
    "names = [\"x1\",\"x2\",\"x3\",\"x4\",\"x5\",\"x6\",\"x7\",\"x8\",\"x9\",\"y\"]\n",
    "dataset = pd.read_csv(\"breast-cancer-wisconsin.data\", names = names)\n",
    "\"\"\"\n",
    " #  Attribute                     Domain\n",
    "   -- -----------------------------------------\n",
    "   1. Sample code number            id number ****** no lo tomo en cuenta\n",
    "   2. Clump Thickness               1 - 10\n",
    "   3. Uniformity of Cell Size       1 - 10\n",
    "   4. Uniformity of Cell Shape      1 - 10\n",
    "   5. Marginal Adhesion             1 - 10\n",
    "   6. Single Epithelial Cell Size   1 - 10\n",
    "   7. Bare Nuclei                   1 - 10\n",
    "   8. Bland Chromatin               1 - 10\n",
    "   9. Normal Nucleoli               1 - 10\n",
    "  10. Mitoses                       1 - 10\n",
    "  11. Class:                        (2 for benign, 4 for malignant)\n",
    "\"\"\"\n",
    "clase, count = np.unique(dataset.values[:,-1],return_counts=True)\n",
    "prob_clase = np.array([xi/np.sum(count) for xi in count])\n",
    "prob_priori = np.array([1/xi for xi in count])\n",
    "print(\"probabilidad de clases\"+str(clase)+\": \" + str(prob_clase))\n",
    "\n",
    "# funcion de densidad de probabilidad Gaussiana\n",
    "# prob(x) = 1/(\\sqrt(2*PI)*std_desv)*e^-((x-mean(x))^2/2*std_desv^2)\n",
    "def calProb(x, mean, stdev):\n",
    "    return (1 / (np.sqrt(2*np.pi) * stdev)) * np.exp(-(np.power(x-mean,2)/(2*np.power(stdev,2))))\n",
    "\n",
    "# probabilidad de clase\n",
    "# P(claas|data) = P(X|class)xP(class)\n",
    "# P(x|class) = P(x1|class)xP(x2|class)\n",
    "ldataset = len(dataset)\n",
    "# P(class=2) | benign\n",
    "py_2 = len(dataset[dataset[\"y\"]==2]) / ldataset\n",
    "# P(class=4) | malignant\n",
    "py_4 = len(dataset[dataset[\"y\"]==4]) / ldataset\n",
    "\n",
    "prob_xi = np.array([np.unique(dataset.values[:,x],return_counts=True) for x in [i for i in range(10)]])\n",
    "print(prob_xi)"
   ]
  },
  {
   "cell_type": "markdown",
   "metadata": {},
   "source": [
    "13 .Ajuste un modelo lineal al conjunto de datos de deuda de préstamos estudiantiles de los Estados Unidos  llamado `student_debt_data.csv`, resolviendo el problema de mínimos cuadrados de regresión lineal asociado. Si esta tendencia lineal continua, ¿cuál será la deuda total del estudiante en el año 2050?"
   ]
  },
  {
   "cell_type": "code",
   "execution_count": 15,
   "metadata": {
    "collapsed": true
   },
   "outputs": [],
   "source": [
    "# Tu codigo"
   ]
  },
  {
   "cell_type": "markdown",
   "metadata": {},
   "source": [
    "14 . La función de costo de mínimos cuadrados para una regresión lineal se puede escribir de manera compacta como:\n",
    "\n",
    "$$\n",
    "g(\\hat{w}) = \\sum_{p =1}^{P}\\biggl(\\hat{x}_p^T\\hat{w} - y_p \\biggr)^2,\n",
    "$$\n",
    "\n",
    "es una función cuadrática convexa. "
   ]
  },
  {
   "cell_type": "code",
   "execution_count": 17,
   "metadata": {
    "collapsed": true
   },
   "outputs": [],
   "source": [
    "# Tu respuesta"
   ]
  },
  {
   "cell_type": "markdown",
   "metadata": {},
   "source": [
    "15 (Watt-Borhani-Katsaggelos). Gordon Moore, cofundador de la corporación Intel, predijo en un artículo de 1965, que el número de transistores en un circuito integrado se duplicaría aproximadamente cada dos años. Esta conjetura, referida en la actualidad como la ley de Moore, ha demostrado ser lo suficientemente precisa en las últimas cinco décadas.\n",
    "\n",
    "Dado que el poder de procesamiento de las computadoras está directamente relacionado con el número de transistores en sus CPU, la ley de Moore proporciona un modelo de tendencia para predecir el poder de cálculo de futuros microprocesadores.\n",
    "\n",
    "La Figura siguiente muestra los recuentos de transistores de varios microprocesadores en comparación con el año en que fueron liberados, comenzando desde Intel 4004 en 1971 con sólo 2300 transistores, hasta el Xeon E7 de Intel, introducido en 2014 con más de 4.300 millones de transistores.\n",
    "\n",
    "![](Moore-Law.png)\n",
    "\n",
    "\n",
    "* Propone una transformación de base exponencial basada en la ley de Moore, mostrada en la figura anteior , de modo que los datos de entrada y salida transformados estén relacionados linealmente.\n",
    "\n",
    "* Formula y minimice una función de costo de mínimos cuadrados para pesos apropiados y ajuste su modelo a los datos en el espacio de datos original. Los datos mostrados aquí se encuentran en el archivo `transistor_counts.csv`."
   ]
  },
  {
   "cell_type": "code",
   "execution_count": 18,
   "metadata": {
    "collapsed": true
   },
   "outputs": [],
   "source": [
    "# Tu codigo"
   ]
  },
  {
   "cell_type": "markdown",
   "metadata": {},
   "source": [
    "16 .(Bishop). Dado un conjunto de puntos $\\{x_n\\}$, podemos definir la cápsula convexa como el conjunto de todos los puntos:\n",
    "\n",
    "$$\n",
    "x = \\sum_{n}\\alpha_nx_n\n",
    "$$\n",
    "\n",
    "donde $\\alpha_n \\geq 0$ y $\\sum_{n}\\alpha_n = 1$. Consideremos un segundo conjunto de puntos $\\{y_n \\}$ junto con su correspondiente cápsula convexa. Por definición los dos conjuntos de puntos son linealmente separables si existe un vector $\\hat{w}$ y un escalar $w_0$ tal que $\\hat{w}^Tx_n + w_0 > 0$ para todo $x_n$ y $\\hat{w}^Ty_n + w_0 < 0$ para todo $y_n$.\n",
    "\n",
    "\n",
    "Demuestre que si sus cápsulas convexas se intersecan, los dos conjuntos de puntos no pueden ser linealmente separables, y viceversa que si son linealmente separables, sus cápsulas convexas no se cruzan."
   ]
  },
  {
   "cell_type": "code",
   "execution_count": 11,
   "metadata": {
    "collapsed": true
   },
   "outputs": [],
   "source": [
    "# Tu respuesta"
   ]
  },
  {
   "cell_type": "markdown",
   "metadata": {},
   "source": [
    "17 .\n",
    "\n",
    "* Proporciona un ejemplo de un conjunto de datos bidimensional para el cual los datos son linealmente separables, pero no linealmente independientes.\n",
    " linealmente independiente.\n",
    "    \n",
    "* ¿Puedes encontrar un conjunto de datos que sea linealmente independiente pero no linealmente separable?."
   ]
  },
  {
   "cell_type": "code",
   "execution_count": 12,
   "metadata": {
    "collapsed": true
   },
   "outputs": [],
   "source": [
    "# Tu respuesta"
   ]
  },
  {
   "cell_type": "markdown",
   "metadata": {},
   "source": [
    "18 . Demuestra que para la regresión de mínimos cuadrados ordinarios y ortogonales  ajustados a los datos $(x_n, y_n), n = 1, \\dots, N$ las líneas ajustadas  pasan por el punto $\\sum_{n =1}^{N}(x_n, y_n)/N$."
   ]
  },
  {
   "cell_type": "code",
   "execution_count": 13,
   "metadata": {
    "collapsed": true
   },
   "outputs": [],
   "source": [
    "# Tu respuesta"
   ]
  },
  {
   "cell_type": "markdown",
   "metadata": {},
   "source": [
    "19 . Proporciona un reporte del manejo que hace scikit learn acerca de los modelos de regresión lineal: http://scikit-learn.org/stable/modules/generated/sklearn.linear_model.LinearRegression.html. Muestra ejemplos.\n"
   ]
  },
  {
   "cell_type": "code",
   "execution_count": 14,
   "metadata": {
    "collapsed": true
   },
   "outputs": [],
   "source": [
    "# Tu reporte"
   ]
  },
  {
   "cell_type": "code",
   "execution_count": null,
   "metadata": {
    "collapsed": true
   },
   "outputs": [],
   "source": []
  }
 ],
 "metadata": {
  "kernelspec": {
   "display_name": "Python [Root]",
   "language": "python",
   "name": "Python [Root]"
  },
  "language_info": {
   "codemirror_mode": {
    "name": "ipython",
    "version": 2
   },
   "file_extension": ".py",
   "mimetype": "text/x-python",
   "name": "python",
   "nbconvert_exporter": "python",
   "pygments_lexer": "ipython2",
   "version": "2.7.12"
  }
 },
 "nbformat": 4,
 "nbformat_minor": 2
}
